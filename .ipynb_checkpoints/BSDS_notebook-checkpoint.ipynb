{
 "cells": [
  {
   "cell_type": "markdown",
   "metadata": {
    "slideshow": {
     "slide_type": "slide"
    }
   },
   "source": [
    "# test slide show\n"
   ]
  },
  {
   "cell_type": "markdown",
   "metadata": {
    "slideshow": {
     "slide_type": "subslide"
    }
   },
   "source": [
    "## testing matlab code execution"
   ]
  },
  {
   "cell_type": "code",
   "execution_count": 10,
   "metadata": {
    "slideshow": {
     "slide_type": "fragment"
    }
   },
   "outputs": [
    {
     "name": "stdout",
     "output_type": "stream",
     "text": [
      "hello world\n"
     ]
    }
   ],
   "source": [
    "disp('hello world')"
   ]
  },
  {
   "cell_type": "markdown",
   "metadata": {
    "slideshow": {
     "slide_type": "slide"
    }
   },
   "source": [
    "## BSDS script diagram\n",
    "![matlab scripts diagram](files/BSDS_scripts_diagram.png)\n"
   ]
  },
  {
   "cell_type": "markdown",
   "metadata": {
    "slideshow": {
     "slide_type": "slide"
    }
   },
   "source": [
    "# Algorithm 1 Bayesian Switching Factor Analysis\n",
    "```\n",
    "step 1: initialization\n",
    " •set the number of states, K (the initial value of K is usually set to a large value, and during learning those states with small contributions will get weights close to zero);\n",
    " ```\n"
   ]
  },
  {
   "cell_type": "markdown",
   "metadata": {
    "slideshow": {
     "slide_type": "fragment"
    }
   },
   "source": [
    "```\n",
    " •set the intrinsic dimensionality of the latent subspace, P, (in general P is set to be smaller than data dimension, , however, in a fully noninformative initialization, one can simply set );\n",
    " •set the prior distribution parameters (Appendix A);\n",
    " •initialize  (e.g., using K-means algorithm, with Euclidean distance as the similarity measure);\n",
    "repeat\n",
    "step 2: optimization of the model parameters (variational-maximization step)\n",
    " •update  and  using update Eqs. (B.2), (B.3), (B.11);\n",
    " •update  using update Eqs. (B.2), (B.3);\n",
    "step 3: optimization of the latent state variables (variational-expectation step)\n",
    " •update  using update Eq. (D.7);\n",
    " •update  using update Eq. (D.8);\n",
    "step 4: optimization of the posterior hyperparameters\n",
    " •update posterior hyperparameters using Eqs. (E.2), (E.6);\n",
    "step 5: check for convergence\n",
    " •evaluate lower bound, , from Eq. (10) using Eq. (F.1).\n",
    "until convergence ()\n",
    "```"
   ]
  }
 ],
 "metadata": {
  "celltoolbar": "Slideshow",
  "kernelspec": {
   "display_name": "Matlab",
   "language": "matlab",
   "name": "matlab"
  },
  "language_info": {
   "codemirror_mode": "octave",
   "file_extension": ".m",
   "help_links": [
    {
     "text": "MetaKernel Magics",
     "url": "https://github.com/calysto/metakernel/blob/master/metakernel/magics/README.md"
    }
   ],
   "mimetype": "text/x-octave",
   "name": "matlab",
   "version": "0.16.1"
  },
  "nteract": {
   "version": "nteract-on-jupyter@2.0.7"
  }
 },
 "nbformat": 4,
 "nbformat_minor": 2
}
